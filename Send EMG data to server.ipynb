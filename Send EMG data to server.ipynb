{
 "cells": [
  {
   "cell_type": "code",
   "execution_count": null,
   "id": "5c8a7edb",
   "metadata": {},
   "outputs": [],
   "source": [
    "#Python Code to send EMG to Flask, label and angle to Arduino \n",
    "import serial\n",
    "import requests\n",
    "from collections import deque\n",
    "import time\n",
    "\n",
    "ser = serial.Serial('COM8', 115200, timeout=1) \n",
    "server_url = \"http://localhost:5000/predict\"  \n",
    "\n",
    "emg_buffer = deque(maxlen=10)  \n",
    "\n",
    "try:\n",
    "    while True:\n",
    "        line = ser.readline().decode('utf-8').strip()\n",
    "        if line and line.isdigit():\n",
    "            \n",
    "            normalized_emg = int(line) / 1023.0\n",
    "            emg_buffer.append(normalized_emg)\n",
    "\n",
    "            if len(emg_buffer) == 10:\n",
    "                print(\"\\nBuffer full. Sending to server...\")\n",
    "                try:\n",
    "                    \n",
    "                    response = requests.post(server_url, json={\"emg\": list(emg_buffer)})\n",
    "                    \n",
    "                    if response.status_code == 200:\n",
    "                        data = response.json()\n",
    "                        label = data.get(\"label\", -1)\n",
    "                        angle = data.get(\"angle\", 0)\n",
    "                        \n",
    "                        if label != -1:\n",
    "                            command = f\"{label}:{angle}\\n\"\n",
    "                            ser.write(command.encode())\n",
    "                            print(f\"Sent to Arduino: {command.strip()}\")\n",
    "                        else:\n",
    "                            print(\"Error: Invalid label from server\")\n",
    "                    else:\n",
    "                        print(f\"Server error: {response.text}\")\n",
    "                \n",
    "                except Exception as e:\n",
    "                    print(f\"Request failed: {e}\")\n",
    "\n",
    "except KeyboardInterrupt:\n",
    "    ser.close()\n",
    "    print(\"\\nProgram terminated.\")\n"
   ]
  }
 ],
 "metadata": {
  "language_info": {
   "name": "python"
  }
 },
 "nbformat": 4,
 "nbformat_minor": 5
}
